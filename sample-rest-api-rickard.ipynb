{
 "cells": [
  {
   "cell_type": "markdown",
   "id": "f5294be5-4573-471c-98d0-8ff3d979639a",
   "metadata": {},
   "source": [
    "# Example: connecting to SAS via REST API"
   ]
  },
  {
   "cell_type": "code",
   "execution_count": null,
   "id": "0a661e57-bac6-4f4a-9107-326d646145b8",
   "metadata": {},
   "outputs": [],
   "source": [
    "# Initialize\n",
    "import json\n",
    "import os\n",
    "import sys\n",
    "import requests as req\n",
    "import random"
   ]
  },
  {
   "cell_type": "code",
   "execution_count": null,
   "id": "921c874e-df9e-47a8-846d-881be7eab508",
   "metadata": {},
   "outputs": [
    {
     "name": "stdout",
     "output_type": "stream",
     "text": [
      "SAS Repository  =  teamhje.viyacloud.sas.com\n"
     ]
    }
   ],
   "source": [
    "# SAS repository connection\n",
    "protocol = 'https'\n",
    "server   = '<your-team-name>.viyacloud.sas.com'\n",
    "authUri  = '/SASLogon/oauth/token'\n",
    "\n",
    "# User information\n",
    "user     = 'sasadm'\n",
    "password = '<your-password>'\n",
    "\n",
    "print('SAS Repository  = ', server)"
   ]
  },
  {
   "cell_type": "code",
   "execution_count": null,
   "id": "fca3bc2a-d851-4bfa-a554-2b8e7a2fbca0",
   "metadata": {},
   "outputs": [
    {
     "name": "stdout",
     "output_type": "stream",
     "text": [
      "Access token is:\n",
      "eyJhbGciOiJSUzI1NiIsImprdSI6Imh0dHBzOi8vbG9jYWxob3N0L1NBU0xvZ29uL3Rva2VuX2tleXMiLCJraWQiOiJsZWdhY3ktdG9rZW4ta2V5IiwidHlwIjoiSldUIn0.eyJqdGkiOiI5N2I1NTg0MWQ3OWY0YTNiODM4MDA0Y2ZlY2Y5Mzk0NCIsImV4dF9pZCI6InVpZD1zYXNhZG0sb3U9dXNlcnMsZGM9dml5YTQsZGM9b3JnIiwic3ViIjoiMjU5OTkzMWEtYmNmNC00MDBlLWE2NTktMjNlYmFkYWNlMjUxIiwic2NvcGUiOlsiRGF0YUJ1aWxkZXJzIiwic2FzdXNlcnMiLCJBcHBsaWNhdGlvbkFkbWluaXN0cmF0b3JzIiwiU0FTU2NvcmVVc2VycyIsInNhc2FkbWlucyIsImNsaWVudHMucmVhZCIsImNsaWVudHMuc2VjcmV0IiwidWFhLnJlc291cmNlIiwib3BlbmlkIiwidWFhLmFkbWluIiwiY2xpZW50cy5hZG1pbiIsInNjaW0ucmVhZCIsIlNBU0FkbWluaXN0cmF0b3JzIiwiY2xpZW50cy53cml0ZSIsInNjaW0ud3JpdGUiLCJDQVNIb3N0QWNjb3VudFJlcXVpcmVkIl0sImNsaWVudF9pZCI6InNhcy5lYyIsImNpZCI6InNhcy5lYyIsImF6cCI6InNhcy5lYyIsImdyYW50X3R5cGUiOiJwYXNzd29yZCIsInVzZXJfaWQiOiIyNTk5OTMxYS1iY2Y0LTQwMGUtYTY1OS0yM2ViYWRhY2UyNTEiLCJvcmlnaW4iOiJsZGFwIiwidXNlcl9uYW1lIjoic2FzYWRtIiwiZW1haWwiOiJzYXNhZG1Adml5YTQub3JnIiwiYXV0aF90aW1lIjoxNjUxMDc4MzM5LCJyZXZfc2lnIjoiNWI2ZWRhMDMiLCJpYXQiOjE2NTEwNzgzMzksImV4cCI6MTY1MTA5MjczOSwiaXNzIjoiaHR0cDovL2xvY2FsaG9zdC9TQVNMb2dvbi9vYXV0aC90b2tlbiIsInppZCI6InVhYSIsImF1ZCI6WyJzY2ltIiwiY2xpZW50cyIsInNhcy4qIiwidWFhIiwib3BlbmlkIiwic2FzLmVjIl19.aSKnr0lfCh-vJm9bFnBcUD8E-yL-5tN_fL-4BXA1piiL-YwiiP8gebaYrwpzuuuzMmVB0LpLFWlqTYCMsHqNYmgDpEws4PrAGEp0oc91XO1SzHjy4y_XouuDyl2LOTVA-InQ-yeHFNeQpc7Cl7G7TAyyuxhkBijyjctWwPlahbY7oAxxayYv3jsc4nha9rGz-vQzTngM1bA2OPmvBTlnkm0HzbtPAE68gkU-e9CXOhTamS4uDtNBI5fyhzFIzlWlKIHGfpRzFv6P8Wzv20ow8oHsj1ef9OgYQIeSB5pXrLOl9eop57hrkj-zeANezA8kN_ndPH4U5cSfu84DHu-RRQ\n"
     ]
    }
   ],
   "source": [
    "mmService = protocol + '://' + server\n",
    "\n",
    "headers = {\n",
    "   'Accept': 'application/json',\n",
    "   'Content-Type': 'application/x-www-form-urlencoded'\n",
    "}\n",
    "\n",
    "payload    = 'grant_type=password&username=' + user + '&password=' + password\n",
    "authReturn = req.post(mmService + authUri , auth=('sas.ec', ''), data=payload, headers=headers);      \n",
    "authJson   = json.loads(authReturn.content.decode('utf-8'))\n",
    "myToken    = authJson['access_token']\n",
    "\n",
    "print(\"Access token is:\\n\" + myToken)"
   ]
  }
 ],
 "metadata": {
  "kernelspec": {
   "display_name": "Python 3 (ipykernel)",
   "language": "python",
   "name": "python3"
  },
  "language_info": {
   "codemirror_mode": {
    "name": "ipython",
    "version": 3
   },
   "file_extension": ".py",
   "mimetype": "text/x-python",
   "name": "python",
   "nbconvert_exporter": "python",
   "pygments_lexer": "ipython3",
   "version": "3.9.10"
  }
 },
 "nbformat": 4,
 "nbformat_minor": 5
}
