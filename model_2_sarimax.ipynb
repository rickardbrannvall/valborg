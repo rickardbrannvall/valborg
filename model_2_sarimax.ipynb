{
 "cells": [
  {
   "cell_type": "code",
   "execution_count": 2,
   "id": "faeaebc0-b675-4d7a-be70-2787b89637bf",
   "metadata": {},
   "outputs": [],
   "source": [
    "import pandas as pd\n",
    "import matplotlib.pyplot as plt\n",
    "import numpy as np\n",
    "import os\n"
   ]
  },
  {
   "cell_type": "code",
   "execution_count": 9,
   "id": "f98075a2-eda8-4b1a-a9e1-fbee710ccecf",
   "metadata": {},
   "outputs": [
    {
     "data": {
      "text/html": [
       "<div>\n",
       "<style scoped>\n",
       "    .dataframe tbody tr th:only-of-type {\n",
       "        vertical-align: middle;\n",
       "    }\n",
       "\n",
       "    .dataframe tbody tr th {\n",
       "        vertical-align: top;\n",
       "    }\n",
       "\n",
       "    .dataframe thead th {\n",
       "        text-align: right;\n",
       "    }\n",
       "</style>\n",
       "<table border=\"1\" class=\"dataframe\">\n",
       "  <thead>\n",
       "    <tr style=\"text-align: right;\">\n",
       "      <th></th>\n",
       "      <th>y</th>\n",
       "      <th>a</th>\n",
       "      <th>b</th>\n",
       "      <th>c</th>\n",
       "      <th>h</th>\n",
       "      <th>yy</th>\n",
       "      <th>dy</th>\n",
       "      <th>B</th>\n",
       "    </tr>\n",
       "  </thead>\n",
       "  <tbody>\n",
       "    <tr>\n",
       "      <th>count</th>\n",
       "      <td>7957.000000</td>\n",
       "      <td>8064.000000</td>\n",
       "      <td>8064.000000</td>\n",
       "      <td>8064.000000</td>\n",
       "      <td>3066.000000</td>\n",
       "      <td>8064.000000</td>\n",
       "      <td>8063.000000</td>\n",
       "      <td>8064.000000</td>\n",
       "    </tr>\n",
       "    <tr>\n",
       "      <th>mean</th>\n",
       "      <td>6.335716</td>\n",
       "      <td>5.135185</td>\n",
       "      <td>0.162712</td>\n",
       "      <td>0.606647</td>\n",
       "      <td>68.751931</td>\n",
       "      <td>6.340375</td>\n",
       "      <td>-0.000633</td>\n",
       "      <td>0.162680</td>\n",
       "    </tr>\n",
       "    <tr>\n",
       "      <th>std</th>\n",
       "      <td>1.785341</td>\n",
       "      <td>16.261032</td>\n",
       "      <td>0.473934</td>\n",
       "      <td>4.299443</td>\n",
       "      <td>16.504785</td>\n",
       "      <td>1.786439</td>\n",
       "      <td>0.289426</td>\n",
       "      <td>0.060509</td>\n",
       "    </tr>\n",
       "    <tr>\n",
       "      <th>min</th>\n",
       "      <td>2.164790</td>\n",
       "      <td>0.000000</td>\n",
       "      <td>0.000000</td>\n",
       "      <td>0.000000</td>\n",
       "      <td>41.000000</td>\n",
       "      <td>2.164790</td>\n",
       "      <td>-2.053780</td>\n",
       "      <td>0.043988</td>\n",
       "    </tr>\n",
       "    <tr>\n",
       "      <th>25%</th>\n",
       "      <td>4.995670</td>\n",
       "      <td>0.000000</td>\n",
       "      <td>0.000000</td>\n",
       "      <td>0.000000</td>\n",
       "      <td>58.500000</td>\n",
       "      <td>4.995670</td>\n",
       "      <td>-0.166520</td>\n",
       "      <td>0.115482</td>\n",
       "    </tr>\n",
       "    <tr>\n",
       "      <th>50%</th>\n",
       "      <td>6.050320</td>\n",
       "      <td>0.813500</td>\n",
       "      <td>0.063532</td>\n",
       "      <td>0.000000</td>\n",
       "      <td>66.000000</td>\n",
       "      <td>6.050320</td>\n",
       "      <td>0.000000</td>\n",
       "      <td>0.155945</td>\n",
       "    </tr>\n",
       "    <tr>\n",
       "      <th>75%</th>\n",
       "      <td>7.493510</td>\n",
       "      <td>2.853500</td>\n",
       "      <td>0.119538</td>\n",
       "      <td>0.000000</td>\n",
       "      <td>73.500000</td>\n",
       "      <td>7.493510</td>\n",
       "      <td>0.111020</td>\n",
       "      <td>0.201714</td>\n",
       "    </tr>\n",
       "    <tr>\n",
       "      <th>max</th>\n",
       "      <td>12.655700</td>\n",
       "      <td>192.893043</td>\n",
       "      <td>7.592103</td>\n",
       "      <td>60.000000</td>\n",
       "      <td>168.500000</td>\n",
       "      <td>12.655700</td>\n",
       "      <td>1.720730</td>\n",
       "      <td>0.520829</td>\n",
       "    </tr>\n",
       "  </tbody>\n",
       "</table>\n",
       "</div>"
      ],
      "text/plain": [
       "                 y            a            b            c            h  \\\n",
       "count  7957.000000  8064.000000  8064.000000  8064.000000  3066.000000   \n",
       "mean      6.335716     5.135185     0.162712     0.606647    68.751931   \n",
       "std       1.785341    16.261032     0.473934     4.299443    16.504785   \n",
       "min       2.164790     0.000000     0.000000     0.000000    41.000000   \n",
       "25%       4.995670     0.000000     0.000000     0.000000    58.500000   \n",
       "50%       6.050320     0.813500     0.063532     0.000000    66.000000   \n",
       "75%       7.493510     2.853500     0.119538     0.000000    73.500000   \n",
       "max      12.655700   192.893043     7.592103    60.000000   168.500000   \n",
       "\n",
       "                yy           dy            B  \n",
       "count  8064.000000  8063.000000  8064.000000  \n",
       "mean      6.340375    -0.000633     0.162680  \n",
       "std       1.786439     0.289426     0.060509  \n",
       "min       2.164790    -2.053780     0.043988  \n",
       "25%       4.995670    -0.166520     0.115482  \n",
       "50%       6.050320     0.000000     0.155945  \n",
       "75%       7.493510     0.111020     0.201714  \n",
       "max      12.655700     1.720730     0.520829  "
      ]
     },
     "execution_count": 9,
     "metadata": {},
     "output_type": "execute_result"
    }
   ],
   "source": [
    "#filename = \"ah78_long.csv\"\n",
    "filename = \"ah78_month.csv\"\n",
    "#filename = \"ah78_week.csv\"\n",
    "\n",
    "ts = pd.read_csv(\"simple_\"+filename, index_col=0)\n",
    "ts.index = pd.DatetimeIndex(ts.index.values, freq=\"5min\")\n",
    "ts.describe()\n"
   ]
  },
  {
   "cell_type": "code",
   "execution_count": 11,
   "id": "2862b750-380c-470a-83d2-40cd580c924d",
   "metadata": {},
   "outputs": [
    {
     "data": {
      "image/png": "[encoded data removed]",
      "text/plain": [
       "<Figure size 432x288 with 1 Axes>"
      ]
     },
     "metadata": {
      "needs_background": "light"
     },
     "output_type": "display_data"
    },
    {
     "data": {
      "text/plain": [
       "1776"
      ]
     },
     "execution_count": 11,
     "metadata": {},
     "output_type": "execute_result"
    }
   ],
   "source": [
    "fp_list = [i for i in range(len(ts.fp)) if ts.fp.iloc[i]]\n",
    "\n",
    "plt.plot(fp_list)\n",
    "plt.show()\n"
   ]
  },
  {
   "cell_type": "code",
   "execution_count": 12,
   "id": "a50945ba-9989-4925-87b9-0e064e29eef1",
   "metadata": {},
   "outputs": [],
   "source": [
    "import statsmodels.api as sm\n"
   ]
  },
  {
   "cell_type": "code",
   "execution_count": 14,
   "id": "954dafee-2bd4-4e94-82b0-9543cb0ed922",
   "metadata": {},
   "outputs": [
    {
     "name": "stdout",
     "output_type": "stream",
     "text": [
      "                               SARIMAX Results                                \n",
      "==============================================================================\n",
      "Dep. Variable:                     yy   No. Observations:                 8064\n",
      "Model:               SARIMAX(2, 0, 2)   Log Likelihood                 404.043\n",
      "Date:                Thu, 05 May 2022   AIC                           -790.086\n",
      "Time:                        12:56:23   BIC                           -727.129\n",
      "Sample:                    02-01-2022   HQIC                          -768.545\n",
      "                         - 02-28-2022                                         \n",
      "Covariance Type:                  opg                                         \n",
      "==============================================================================\n",
      "                 coef    std err          z      P>|z|      [0.025      0.975]\n",
      "------------------------------------------------------------------------------\n",
      "intercept      0.1535      0.012     12.765      0.000       0.130       0.177\n",
      "a              0.0011      0.000      3.109      0.002       0.000       0.002\n",
      "b              0.0067      0.003      2.039      0.041       0.000       0.013\n",
      "c             -0.0015      0.001     -2.930      0.003      -0.003      -0.001\n",
      "ar.L1          1.4361      0.023     62.591      0.000       1.391       1.481\n",
      "ar.L2         -0.4603      0.023    -20.396      0.000      -0.505      -0.416\n",
      "ma.L1          0.1703      0.023      7.435      0.000       0.125       0.215\n",
      "ma.L2          0.0874      0.016      5.626      0.000       0.057       0.118\n",
      "sigma2         0.0529      0.000    112.785      0.000       0.052       0.054\n",
      "===================================================================================\n",
      "Ljung-Box (L1) (Q):                   0.03   Jarque-Bera (JB):              8252.92\n",
      "Prob(Q):                              0.86   Prob(JB):                         0.00\n",
      "Heteroskedasticity (H):               2.00   Skew:                             0.32\n",
      "Prob(H) (two-sided):                  0.00   Kurtosis:                         7.92\n",
      "===================================================================================\n",
      "\n",
      "Warnings:\n",
      "[1] Covariance matrix calculated using the outer product of gradients (complex-step).\n"
     ]
    }
   ],
   "source": [
    "mod = sm.tsa.statespace.SARIMAX(ts[\"yy\"], exog=ts[[\"a\",\"b\",\"c\"]], order=(2,0,2), trend='c')\n",
    "res = mod.fit(disp=False, maxiter=250)\n",
    "print(res.summary())\n"
   ]
  },
  {
   "cell_type": "code",
   "execution_count": 15,
   "id": "c30d16b6-0ca6-491b-bb53-68b1d3488171",
   "metadata": {},
   "outputs": [],
   "source": [
    "predict = res.get_prediction()\n",
    "predict_ci = predict.conf_int()"
   ]
  },
  {
   "cell_type": "code",
   "execution_count": 56,
   "id": "767f87db-2efb-4546-819d-8e7fe9de79ba",
   "metadata": {},
   "outputs": [
    {
     "data": {
      "text/plain": [
       "(7795, (8064,), (8064, 2), (200,))"
      ]
     },
     "execution_count": 56,
     "metadata": {},
     "output_type": "execute_result"
    }
   ],
   "source": [
    "j = fp_list[108]\n",
    "#j = np.random.choice(fp_list)\n",
    "\n",
    "predict_dy = res.get_prediction(dynamic=j)\n",
    "predict_dy_ci = predict_dy.conf_int()\n",
    "\n",
    "j, predict_dy.predicted_mean.shape, predict_dy_ci.shape, predict_dy_ci.iloc[j-100:j+100,0].shape\n"
   ]
  },
  {
   "cell_type": "code",
   "execution_count": 57,
   "id": "c01a8cd5-c3ef-4fd2-8716-6d9e473dd1dd",
   "metadata": {},
   "outputs": [
    {
     "data": {
      "image/png": "[encoded data removed]",
      "text/plain": [
       "<Figure size 648x288 with 1 Axes>"
      ]
     },
     "metadata": {
      "needs_background": "light"
     },
     "output_type": "display_data"
    }
   ],
   "source": [
    "fig, ax = plt.subplots(figsize=(9,4))\n",
    "ts.iloc[j-100:j+100][\"yy\"].plot()\n",
    "\n",
    "plt.plot(ts.index[j-100:j+100], predict.predicted_mean[j-100:j+100])\n",
    "ci = predict_ci.values\n",
    "ax.fill_between(ts.index[j-100:j+100], ci[j-100:j+100,0], ci[j-100:j+100,1], color='r', alpha=0.1)\n",
    "\n",
    "plt.plot(ts.index[j-100:j+100], predict_dy.predicted_mean[j-100:j+100])\n",
    "ci = predict_dy_ci.values\n",
    "ax.fill_between(ts.index[j-100:j+100], ci[j-100:j+100,0], ci[j-100:j+100,1], color='g', alpha=0.1)\n",
    "\n",
    "plt.show()"
   ]
  },
  {
   "cell_type": "code",
   "execution_count": null,
   "id": "b7421552-4ec0-4a8d-a660-ed95dd3a5101",
   "metadata": {},
   "outputs": [],
   "source": []
  },
  {
   "cell_type": "code",
   "execution_count": null,
   "id": "d50f8b12-6745-4d52-80e1-2af0ce591849",
   "metadata": {},
   "outputs": [],
   "source": []
  }
 ],
 "metadata": {
  "kernelspec": {
   "display_name": "Python 3 (ipykernel)",
   "language": "python",
   "name": "python3"
  },
  "language_info": {
   "codemirror_mode": {
    "name": "ipython",
    "version": 3
   },
   "file_extension": ".py",
   "mimetype": "text/x-python",
   "name": "python",
   "nbconvert_exporter": "python",
   "pygments_lexer": "ipython3",
   "version": "3.9.10"
  }
 },
 "nbformat": 4,
 "nbformat_minor": 5
}
