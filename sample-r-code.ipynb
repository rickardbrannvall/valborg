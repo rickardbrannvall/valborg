{
 "cells": [
  {
   "cell_type": "markdown",
   "id": "639a4ed8-11ab-4fe8-90ac-a6f8e3e1c687",
   "metadata": {},
   "source": [
    "# R example: sorting"
   ]
  },
  {
   "cell_type": "code",
   "execution_count": 1,
   "id": "dd74f93c-2dfe-48ab-998e-513a8797898b",
   "metadata": {},
   "outputs": [
    {
     "data": {
      "text/html": [
       "<table class=\"dataframe\">\n",
       "<caption>A data.frame: 4 × 2</caption>\n",
       "<thead>\n",
       "\t<tr><th scope=col>x</th><th scope=col>y</th></tr>\n",
       "\t<tr><th scope=col>&lt;dbl&gt;</th><th scope=col>&lt;dbl&gt;</th></tr>\n",
       "</thead>\n",
       "<tbody>\n",
       "\t<tr><td>1</td><td> 7</td></tr>\n",
       "\t<tr><td>2</td><td>19</td></tr>\n",
       "\t<tr><td>3</td><td> 2</td></tr>\n",
       "\t<tr><td>1</td><td> 2</td></tr>\n",
       "</tbody>\n",
       "</table>\n"
      ],
      "text/latex": [
       "A data.frame: 4 × 2\n",
       "\\begin{tabular}{ll}\n",
       " x & y\\\\\n",
       " <dbl> & <dbl>\\\\\n",
       "\\hline\n",
       "\t 1 &  7\\\\\n",
       "\t 2 & 19\\\\\n",
       "\t 3 &  2\\\\\n",
       "\t 1 &  2\\\\\n",
       "\\end{tabular}\n"
      ],
      "text/markdown": [
       "\n",
       "A data.frame: 4 × 2\n",
       "\n",
       "| x &lt;dbl&gt; | y &lt;dbl&gt; |\n",
       "|---|---|\n",
       "| 1 |  7 |\n",
       "| 2 | 19 |\n",
       "| 3 |  2 |\n",
       "| 1 |  2 |\n",
       "\n"
      ],
      "text/plain": [
       "  x y \n",
       "1 1  7\n",
       "2 2 19\n",
       "3 3  2\n",
       "4 1  2"
      ]
     },
     "metadata": {},
     "output_type": "display_data"
    }
   ],
   "source": [
    "D <- data.frame(x=c(1,2,3,1), y=c(7,19,2,2))\n",
    "D"
   ]
  },
  {
   "cell_type": "code",
   "execution_count": 2,
   "id": "8eb8c6ed-96e1-43b9-b114-ce989cb39de1",
   "metadata": {},
   "outputs": [
    {
     "data": {
      "text/html": [
       "<table class=\"dataframe\">\n",
       "<caption>A data.frame: 4 × 2</caption>\n",
       "<thead>\n",
       "\t<tr><th></th><th scope=col>x</th><th scope=col>y</th></tr>\n",
       "\t<tr><th></th><th scope=col>&lt;dbl&gt;</th><th scope=col>&lt;dbl&gt;</th></tr>\n",
       "</thead>\n",
       "<tbody>\n",
       "\t<tr><th scope=row>1</th><td>1</td><td> 7</td></tr>\n",
       "\t<tr><th scope=row>4</th><td>1</td><td> 2</td></tr>\n",
       "\t<tr><th scope=row>2</th><td>2</td><td>19</td></tr>\n",
       "\t<tr><th scope=row>3</th><td>3</td><td> 2</td></tr>\n",
       "</tbody>\n",
       "</table>\n"
      ],
      "text/latex": [
       "A data.frame: 4 × 2\n",
       "\\begin{tabular}{r|ll}\n",
       "  & x & y\\\\\n",
       "  & <dbl> & <dbl>\\\\\n",
       "\\hline\n",
       "\t1 & 1 &  7\\\\\n",
       "\t4 & 1 &  2\\\\\n",
       "\t2 & 2 & 19\\\\\n",
       "\t3 & 3 &  2\\\\\n",
       "\\end{tabular}\n"
      ],
      "text/markdown": [
       "\n",
       "A data.frame: 4 × 2\n",
       "\n",
       "| <!--/--> | x &lt;dbl&gt; | y &lt;dbl&gt; |\n",
       "|---|---|---|\n",
       "| 1 | 1 |  7 |\n",
       "| 4 | 1 |  2 |\n",
       "| 2 | 2 | 19 |\n",
       "| 3 | 3 |  2 |\n",
       "\n"
      ],
      "text/plain": [
       "  x y \n",
       "1 1  7\n",
       "4 1  2\n",
       "2 2 19\n",
       "3 3  2"
      ]
     },
     "metadata": {},
     "output_type": "display_data"
    }
   ],
   "source": [
    "# Sort on x\n",
    "indexes <- order(D$x)\n",
    "D[indexes,]"
   ]
  },
  {
   "cell_type": "code",
   "execution_count": 3,
   "id": "97e5aceb-11a2-4897-bbfb-9b9668e51a1f",
   "metadata": {},
   "outputs": [
    {
     "data": {
      "text/html": [
       "<table class=\"dataframe\">\n",
       "<caption>A data.frame: 4 × 2</caption>\n",
       "<thead>\n",
       "\t<tr><th></th><th scope=col>x</th><th scope=col>y</th></tr>\n",
       "\t<tr><th></th><th scope=col>&lt;dbl&gt;</th><th scope=col>&lt;dbl&gt;</th></tr>\n",
       "</thead>\n",
       "<tbody>\n",
       "\t<tr><th scope=row>2</th><td>2</td><td>19</td></tr>\n",
       "\t<tr><th scope=row>1</th><td>1</td><td> 7</td></tr>\n",
       "\t<tr><th scope=row>4</th><td>1</td><td> 2</td></tr>\n",
       "\t<tr><th scope=row>3</th><td>3</td><td> 2</td></tr>\n",
       "</tbody>\n",
       "</table>\n"
      ],
      "text/latex": [
       "A data.frame: 4 × 2\n",
       "\\begin{tabular}{r|ll}\n",
       "  & x & y\\\\\n",
       "  & <dbl> & <dbl>\\\\\n",
       "\\hline\n",
       "\t2 & 2 & 19\\\\\n",
       "\t1 & 1 &  7\\\\\n",
       "\t4 & 1 &  2\\\\\n",
       "\t3 & 3 &  2\\\\\n",
       "\\end{tabular}\n"
      ],
      "text/markdown": [
       "\n",
       "A data.frame: 4 × 2\n",
       "\n",
       "| <!--/--> | x &lt;dbl&gt; | y &lt;dbl&gt; |\n",
       "|---|---|---|\n",
       "| 2 | 2 | 19 |\n",
       "| 1 | 1 |  7 |\n",
       "| 4 | 1 |  2 |\n",
       "| 3 | 3 |  2 |\n",
       "\n"
      ],
      "text/plain": [
       "  x y \n",
       "2 2 19\n",
       "1 1  7\n",
       "4 1  2\n",
       "3 3  2"
      ]
     },
     "metadata": {},
     "output_type": "display_data"
    }
   ],
   "source": [
    "# Print out sorted dataset, sorted in reverse by y\n",
    "D[rev(order(D$y)),]"
   ]
  }
 ],
 "metadata": {
  "kernelspec": {
   "display_name": "R",
   "language": "R",
   "name": "ir"
  },
  "language_info": {
   "codemirror_mode": "r",
   "file_extension": ".r",
   "mimetype": "text/x-r-source",
   "name": "R",
   "pygments_lexer": "r",
   "version": "4.1.2"
  }
 },
 "nbformat": 4,
 "nbformat_minor": 5
}
