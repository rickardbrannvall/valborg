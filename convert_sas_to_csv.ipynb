{
 "cells": [
  {
   "cell_type": "code",
   "execution_count": 1,
   "id": "e70e2553-e3b8-4975-bc2a-20b738beedfe",
   "metadata": {},
   "outputs": [
    {
     "name": "stdout",
     "output_type": "stream",
     "text": [
      "/shared-data\n"
     ]
    }
   ],
   "source": [
    "!pwd\n",
    "#!cp sasdata/diabetes-data/beat_ah_bloodglucos_periods.sas7bdat ../home/jovyan/work/tst/\n"
   ]
  },
  {
   "cell_type": "code",
   "execution_count": 18,
   "id": "e234a5a5-aacd-462a-aa3e-6ab3c7f6873c",
   "metadata": {},
   "outputs": [
    {
     "name": "stdout",
     "output_type": "stream",
     "text": [
      "tst\n"
     ]
    }
   ],
   "source": [
    "!ls /home/jovyan/work/\n"
   ]
  },
  {
   "cell_type": "code",
   "execution_count": 13,
   "id": "79b2545d-3463-474c-8bcb-9e1232bff2b6",
   "metadata": {},
   "outputs": [
    {
     "name": "stdout",
     "output_type": "stream",
     "text": [
      "casdata  httpd-htdocs  pythondata  sasdata  Untitled.ipynb\n"
     ]
    }
   ],
   "source": [
    "!ls /shared-data/\n"
   ]
  },
  {
   "cell_type": "code",
   "execution_count": 16,
   "id": "66510f55-d3b9-4a77-af70-6429cdae1dfc",
   "metadata": {},
   "outputs": [
    {
     "name": "stdout",
     "output_type": "stream",
     "text": [
      "CAS('controller.sas-cas-server-default.viya4.svc.cluster.local', 5570, 'sasadm', protocol='cas', name='py-session-1', session='df86cb80-ccf0-8548-9d2f-5f1aab66c315')\n"
     ]
    }
   ],
   "source": [
    "import swat\n",
    "\n",
    "sess = swat.CAS(\"controller.sas-cas-server-default.viya4.svc.cluster.local\", 5570, \"sasadm\", \"5@tur@te\", ssl_ca_list=\"/shared-data/pythondata/certs/trustedcerts.pem\")\n",
    "\n",
    "print(sess)\n"
   ]
  },
  {
   "cell_type": "code",
   "execution_count": 17,
   "id": "5c230dcb-9d37-44e1-b6cd-fb3a1618634c",
   "metadata": {},
   "outputs": [
    {
     "name": "stdout",
     "output_type": "stream",
     "text": [
      "NOTE: Grid node action status report: 1 nodes, 8 total actions executed.\n",
      "[About]\n",
      "\n",
      " {'CAS': 'Cloud Analytic Services',\n",
      "  'Version': '4.00',\n",
      "  'VersionLong': 'V.04.00M0P02142022',\n",
      "  'Viya Release': '20220319.1647650546857',\n",
      "  'Viya Version': 'Stable 2021.2.4',\n",
      "  'Copyright': 'Copyright © 2014-2022 SAS Institute Inc. All Rights Reserved.',\n",
      "  'ServerTime': '2022-05-03T07:03:52Z',\n",
      "  'System': {'Hostname': 'controller.sas-cas-server-default.viya4.svc.cluster.local',\n",
      "   'OS Name': 'Linux',\n",
      "   'OS Family': 'LIN X64',\n",
      "   'OS Release': '4.18.0-348.7.1.el8_5.x86_64',\n",
      "   'OS Version': '#1 SMP Wed Dec 22 13:25:12 UTC 2021',\n",
      "   'Model Number': 'x86_64',\n",
      "   'Linux Distribution': 'Red Hat Enterprise Linux release 8.5 (Ootpa)'},\n",
      "  'license': {'site': 'CIS COMPUTE CLOUD SERVICES - VDSD TRAILS - HACK',\n",
      "   'siteNum': 70180938,\n",
      "   'expires': '03Jan2023:00:00:00',\n",
      "   'gracePeriod': 45,\n",
      "   'warningPeriod': 46},\n",
      "  'CASHostAccountRequired': 'OPTIONAL',\n",
      "  'Transferred': 'NO'}\n",
      "\n",
      "[server]\n",
      "\n",
      " Server Status\n",
      " \n",
      "    nodes  actions\n",
      " 0      1        8\n",
      "\n",
      "[nodestatus]\n",
      "\n",
      " Node Status\n",
      " \n",
      "                                                 name        role  uptime  running  stalled\n",
      " 0  controller.sas-cas-server-default.viya4.svc.cl...  controller  15.986        0        0\n",
      "\n",
      "+ Elapsed: 0.000669s, user: 0.000313s, sys: 0.000197s, mem: 0.304mb\n"
     ]
    }
   ],
   "source": [
    "out = sess.serverstatus()\n",
    "print(out)\n"
   ]
  },
  {
   "cell_type": "code",
   "execution_count": 29,
   "id": "3f692b15-4a13-4aea-8914-01135d5452ac",
   "metadata": {},
   "outputs": [],
   "source": [
    "import os.path\n"
   ]
  },
  {
   "cell_type": "code",
   "execution_count": 31,
   "id": "89b2c605-d5b3-4f1c-b62a-f8cf443e4577",
   "metadata": {},
   "outputs": [
    {
     "name": "stdout",
     "output_type": "stream",
     "text": [
      "ah_cda_entry\n",
      " exists\n",
      "ah_cda_measure\n",
      " exists\n",
      "ah_cda_measure_types\n",
      " exists\n",
      "ah_instantaneousbeatsperminute\n",
      " exists\n",
      "ah_quantitytype\n",
      " exists\n",
      "ah_workoutdata\n",
      " exists\n",
      "ah_workoutevent\n",
      " exists\n",
      "beat_ah_bloodglucos_periods\n",
      " exists\n",
      "beat_ah_cda_bloodglucos_periods\n",
      " error\n",
      "beat_ah_periods\n",
      " (10, 3)\n",
      "beat_ah_quantitytype_periods\n",
      " (315, 4)\n",
      "beat_ah_workoutdata_periods\n",
      " error\n",
      "beat_basedata\n",
      " (35, 38)\n",
      "beat_carelink_periods\n",
      " (3, 4)\n",
      "beat_glucose_periods\n",
      " (40, 4)\n",
      "beat_insulin_periods\n",
      " (3, 4)\n",
      "carelink_rawdata\n"
     ]
    },
    {
     "name": "stderr",
     "output_type": "stream",
     "text": [
      "ERROR: The file or path 'beat_ah_cda_bloodglucos_periods' is not available in the file system.\n",
      "ERROR: Table 'beat_ah_cda_bloodglucos_periods' could not be loaded.\n",
      "ERROR: Failure opening table 'beat_ah_cda_bloodglucos_periods': A table could not be loaded.\n",
      "ERROR: The action stopped due to errors.\n",
      "ERROR: The file or path 'beat_ah_workoutdata_periods' is not available in the file system.\n",
      "ERROR: Table 'beat_ah_workoutdata_periods' could not be loaded.\n",
      "ERROR: Failure opening table 'beat_ah_workoutdata_periods': A table could not be loaded.\n",
      "ERROR: The action stopped due to errors.\n"
     ]
    },
    {
     "name": "stdout",
     "output_type": "stream",
     "text": [
      " (366386, 50)\n",
      "carelink\n",
      " (120909, 12)\n",
      "clarity\n",
      " (100569, 15)\n",
      "diasend_cgm\n",
      " (415927, 3)\n",
      "diasend_insulin\n",
      " (19417, 12)\n"
     ]
    }
   ],
   "source": [
    "import glob\n",
    "for filepath in glob.glob(\"/shared-data/casdata/diabetes-data/*.sas7bdat\")[:]:\n",
    "    file = filepath.split(\"/\")[-1]\n",
    "    name = file.split(\".\")[0]\n",
    "    print(name)\n",
    "    savepath = \"/shared-data/csvdata/%s.csv\"%name\n",
    "    if os.path.isfile(savepath):\n",
    "        print(\"\",\"exists\")\n",
    "        continue\n",
    "    try:\n",
    "        df = sess.CASTable(name, caslib='CASData').to_frame()\n",
    "        print(\"\",df.shape)\n",
    "        df.to_csv(savepath)\n",
    "    except:\n",
    "        print(\"\",\"error\")\n",
    "\n",
    "        \n",
    "    "
   ]
  },
  {
   "cell_type": "code",
   "execution_count": 28,
   "id": "2c4aac36-8460-4620-a141-b2626b369c4a",
   "metadata": {},
   "outputs": [
    {
     "data": {
      "text/plain": [
       "3"
      ]
     },
     "execution_count": 28,
     "metadata": {},
     "output_type": "execute_result"
    }
   ],
   "source": [
    "1+2\n"
   ]
  },
  {
   "cell_type": "code",
   "execution_count": null,
   "id": "a12f3fcf-4281-43cc-9e95-4153001b3071",
   "metadata": {},
   "outputs": [],
   "source": []
  }
 ],
 "metadata": {
  "kernelspec": {
   "display_name": "Python 3 (ipykernel)",
   "language": "python",
   "name": "python3"
  },
  "language_info": {
   "codemirror_mode": {
    "name": "ipython",
    "version": 3
   },
   "file_extension": ".py",
   "mimetype": "text/x-python",
   "name": "python",
   "nbconvert_exporter": "python",
   "pygments_lexer": "ipython3",
   "version": "3.9.10"
  }
 },
 "nbformat": 4,
 "nbformat_minor": 5
}
